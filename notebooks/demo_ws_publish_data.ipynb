{
 "cells": [
  {
   "cell_type": "code",
   "execution_count": 1,
   "metadata": {},
   "outputs": [
    {
     "data": {
      "text/plain": [
       "True"
      ]
     },
     "execution_count": 1,
     "metadata": {},
     "output_type": "execute_result"
    }
   ],
   "source": [
    "import requests\n",
    "import json\n",
    "import dotenv\n",
    "import os\n",
    "dotenv.load_dotenv()"
   ]
  },
  {
   "cell_type": "code",
   "execution_count": 2,
   "metadata": {},
   "outputs": [],
   "source": []
  },
  {
   "cell_type": "code",
   "execution_count": 3,
   "metadata": {},
   "outputs": [],
   "source": [
    "APPSYNC_API_ENDPOINT_URL = \"https://jsnbrfwmpfdkjnhocqnrnuibbq.appsync-api.us-east-1.amazonaws.com/graphql\"\n",
    "\n",
    "\n",
    "query = \"\"\"\n",
    "    mutation Publish($data: AWSJSON!, $name: String!) {\n",
    "        publish(data: $data, name: $name) {\n",
    "            data\n",
    "            name\n",
    "        }\n",
    "    }\"\"\"\n",
    "\n",
    "channel_name = 'robots'\n",
    "data = dict(a=7)\n",
    "\n",
    "jsonData=json.dumps(data)\n",
    "variables = json.dumps(dict(name=channel_name, data=jsonData))"
   ]
  },
  {
   "cell_type": "code",
   "execution_count": 5,
   "metadata": {},
   "outputs": [],
   "source": [
    "headers = {'x-api-key' : os.environ[\"aws_appsync_apikey\"]}\n"
   ]
  },
  {
   "cell_type": "code",
   "execution_count": 6,
   "metadata": {},
   "outputs": [
    {
     "name": "stdout",
     "output_type": "stream",
     "text": [
      "{\"data\":{\"publish\":{\"data\":\"{\\\"a\\\":7}\",\"name\":\"robots\"}}}\n"
     ]
    }
   ],
   "source": [
    "response = requests.post(APPSYNC_API_ENDPOINT_URL, json={'query': query, 'variables' : variables}, headers=headers)\n",
    "print(response.text)"
   ]
  }
 ],
 "metadata": {
  "kernelspec": {
   "display_name": "Python 3.10.4 ('dashcanvas')",
   "language": "python",
   "name": "python3"
  },
  "language_info": {
   "codemirror_mode": {
    "name": "ipython",
    "version": 3
   },
   "file_extension": ".py",
   "mimetype": "text/x-python",
   "name": "python",
   "nbconvert_exporter": "python",
   "pygments_lexer": "ipython3",
   "version": "3.10.4"
  },
  "orig_nbformat": 4,
  "vscode": {
   "interpreter": {
    "hash": "df40e483d86b4f1080bf2c4e480fecb7bceb455f92b6f9ab31351dd115d305d9"
   }
  }
 },
 "nbformat": 4,
 "nbformat_minor": 2
}
