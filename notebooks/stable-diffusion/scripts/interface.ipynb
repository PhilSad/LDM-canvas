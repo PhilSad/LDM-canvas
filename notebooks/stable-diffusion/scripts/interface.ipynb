{
 "cells": [
  {
   "cell_type": "code",
   "execution_count": 2,
   "metadata": {},
   "outputs": [],
   "source": [
    "from txt2img_lib import *"
   ]
  },
  {
   "cell_type": "code",
   "execution_count": 3,
   "metadata": {},
   "outputs": [],
   "source": [
    "import time"
   ]
  },
  {
   "cell_type": "code",
   "execution_count": 4,
   "metadata": {},
   "outputs": [],
   "source": [
    "path_to_edit_image = ''\n",
    "path_to_mask_file = ''\n",
    "path_to_init_image = ''"
   ]
  },
  {
   "cell_type": "code",
   "execution_count": 5,
   "metadata": {},
   "outputs": [],
   "source": [
    "class Dict2Class(object):\n",
    "      \n",
    "    def __init__(self, my_dict):\n",
    "          \n",
    "        for key in my_dict:\n",
    "            setattr(self, key, my_dict[key])"
   ]
  },
  {
   "cell_type": "code",
   "execution_count": null,
   "metadata": {},
   "outputs": [],
   "source": [
    "prompt = 'prompt'\n",
    "outdir = './out'\n",
    "steps = 50"
   ]
  },
  {
   "cell_type": "code",
   "execution_count": null,
   "metadata": {},
   "outputs": [],
   "source": [
    "params = dict(\n",
    "    prompt = prompt,\n",
    "    outdir = outdir,\n",
    "    skip_grid = False,\n",
    "    skip_save = False,\n",
    "    ddim_steps = steps,\n",
    "    plms = True,\n",
    "    laion400m = False,\n",
    "    fixed_code = False,\n",
    "    ddim_eta = 0.0,\n",
    "    n_iter = 1,\n",
    "    H = 512,\n",
    "    C = 4,\n",
    "    f = 8,\n",
    "    n_samples = 1,\n",
    "    n_rows = 0,\n",
    "    scale = 7.5,\n",
    "    config = \"configs/stable-diffusion/v1-inference.yaml\"\n",
    "    ckpt = \"models/ldm/stable-diffusion-v1/model.ckpt\"\n",
    "    seed = -1,\n",
    "    precision = \"autocast\"\n",
    "\n",
    "\n",
    ")"
   ]
  },
  {
   "cell_type": "code",
   "execution_count": 10,
   "metadata": {},
   "outputs": [],
   "source": [
    "init_params = dict(\n",
    "    cpu = False,\n",
    "    model_path = 'finetune.pt',\n",
    "    ddpm = False ,\n",
    "    ddim = False,\n",
    "    steps = 0,\n",
    "    clip_guidance = False,\n",
    "    kl_path = 'kl-f8.pt',\n",
    "    bert_path = 'bert.pt',\n",
    ")\n",
    "\n",
    "\n",
    "run_params = dict(\n",
    "    num_batches = 1,\n",
    "    batch_size = 3,\n",
    "    text = 'A happy bird dancing in shorts' ,\n",
    "    seed = -1,\n",
    "    negative = '',\n",
    "    cutn = 16,\n",
    "    clip_guidance = False,\n",
    "    edit = path_to_edit_image,\n",
    "    edit_x  = 0,\n",
    "    edit_y = 0,\n",
    "    edit_width = 0,\n",
    "    edit_height = 0,\n",
    "    height = 256,\n",
    "    width = 256,\n",
    "    mask = path_to_mask_file,\n",
    "    guidance_scale = 5.0,\n",
    "    clip_guidance_scale = 150 ,\n",
    "    prefix = str(time.time()) + '_',\n",
    "    init_image = path_to_init_image,\n",
    "    skip_timesteps = 0,\n",
    "    clip_score = False\n",
    "\n",
    ")\n"
   ]
  },
  {
   "cell_type": "code",
   "execution_count": 7,
   "metadata": {},
   "outputs": [
    {
     "data": {
      "text/plain": [
       "1660926359.855001"
      ]
     },
     "execution_count": 7,
     "metadata": {},
     "output_type": "execute_result"
    }
   ],
   "source": [
    "time.time()"
   ]
  },
  {
   "cell_type": "code",
   "execution_count": 8,
   "metadata": {},
   "outputs": [
    {
     "name": "stdout",
     "output_type": "stream",
     "text": [
      "Using device: cuda:0\n"
     ]
    }
   ],
   "source": [
    "access = Access_Model(Dict2Class(init_params))"
   ]
  },
  {
   "cell_type": "code",
   "execution_count": 12,
   "metadata": {},
   "outputs": [
    {
     "name": "stdout",
     "output_type": "stream",
     "text": [
      "DEBUG - Starting do_run\n"
     ]
    },
    {
     "data": {
      "application/json": {
       "ascii": false,
       "bar_format": null,
       "colour": null,
       "elapsed": 0.0244443416595459,
       "initial": 0,
       "n": 0,
       "ncols": null,
       "nrows": null,
       "postfix": null,
       "prefix": "",
       "rate": null,
       "total": 27,
       "unit": "it",
       "unit_divisor": 1000,
       "unit_scale": false
      },
      "application/vnd.jupyter.widget-view+json": {
       "model_id": "5ed6e58db77444cc934ed581524e477f",
       "version_major": 2,
       "version_minor": 0
      },
      "text/plain": [
       "  0%|          | 0/27 [00:00<?, ?it/s]"
      ]
     },
     "metadata": {},
     "output_type": "display_data"
    }
   ],
   "source": [
    "access.do_run(Dict2Class(run_params))"
   ]
  },
  {
   "cell_type": "code",
   "execution_count": null,
   "metadata": {},
   "outputs": [],
   "source": []
  }
 ],
 "metadata": {
  "kernelspec": {
   "display_name": "Python 3.8.5 ('ldm': conda)",
   "language": "python",
   "name": "python3"
  },
  "language_info": {
   "codemirror_mode": {
    "name": "ipython",
    "version": 3
   },
   "file_extension": ".py",
   "mimetype": "text/x-python",
   "name": "python",
   "nbconvert_exporter": "python",
   "pygments_lexer": "ipython3",
   "version": "3.8.5"
  },
  "vscode": {
   "interpreter": {
    "hash": "858f403b1a4e5aa39021feb7920380eed1905359c1d04719ed4326a020bccacf"
   }
  }
 },
 "nbformat": 4,
 "nbformat_minor": 4
}
